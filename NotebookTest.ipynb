{
 "cells": [
  {
   "cell_type": "code",
   "execution_count": null,
   "metadata": {
    "tags": []
   },
   "outputs": [],
   "source": [
    "from TheWildTool.WorkData import VideoExtract\n",
    "\n",
    "\n",
    "clientConverter = VideoExtract()\n",
    "clientConverter.add_to_queue([r'C:\\Users\\ferdh\\Downloads\\datatest\\test.mp4'])\n",
    "clientConverter.save_folder = r'C:\\Users\\ferdh\\Downloads\\datatest'\n",
    "\n",
    "print(clientConverter.converter_queue)\n",
    "clientConverter.to_audio()"
   ]
  },
  {
   "cell_type": "code",
   "execution_count": 1,
   "metadata": {
    "tags": []
   },
   "outputs": [
    {
     "name": "stdout",
     "output_type": "stream",
     "text": [
      "['C:/Users/ferdh/Downloads/datatest/audioexport/0-MyAudioDataset.wav']\n",
      "\n",
      "Add to queue success. Total queue 1\n",
      "8962048\n",
      "[0.00000000e+00 2.26757370e-05 4.53514739e-05 ... 2.03220975e+02\n",
      " 2.03220998e+02 2.03221020e+02]\n"
     ]
    }
   ],
   "source": [
    "from TheWildTool.WorkData import ProccessAudio\n",
    "import os\n",
    "\n",
    "\n",
    "files = os.listdir('C:/Users/ferdh/Downloads/datatest/audioexport')\n",
    "files_abs = []\n",
    "\n",
    "for file_r in files:\n",
    "    files_abs.append(f'C:/Users/ferdh/Downloads/datatest/audioexport/{file_r}') # Para añadir la ruta absoluta. De esto se encarga el usuario.\n",
    "\n",
    "print(files_abs)\n",
    "\n",
    "audioClient = ProccessAudio()\n",
    "audioClient.add_to_queue(files_abs)\n",
    "\n",
    "audioClient.graphic(0)"
   ]
  }
 ],
 "metadata": {
  "kernelspec": {
   "display_name": "Python 3 (ipykernel)",
   "language": "python",
   "name": "python3"
  },
  "language_info": {
   "codemirror_mode": {
    "name": "ipython",
    "version": 3
   },
   "file_extension": ".py",
   "mimetype": "text/x-python",
   "name": "python",
   "nbconvert_exporter": "python",
   "pygments_lexer": "ipython3",
   "version": "3.10.8"
  },
  "vscode": {
   "interpreter": {
    "hash": "0ea5957ad0bd0dbc544f139b486aa71bd9e619189b37ee786adc0ca7f8a79c53"
   }
  }
 },
 "nbformat": 4,
 "nbformat_minor": 4
}
