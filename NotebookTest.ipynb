{
 "cells": [
  {
   "cell_type": "code",
   "execution_count": null,
   "metadata": {},
   "outputs": [],
   "source": [
    "from TheWildTool.WorkData import VideoExtract\n",
    "\n"
   ]
  },
  {
   "cell_type": "code",
   "execution_count": 36,
   "metadata": {
    "tags": []
   },
   "outputs": [
    {
     "name": "stdout",
     "output_type": "stream",
     "text": [
      "[]\n",
      "\n",
      "Add to queue sucess. Total queue 1\n",
      "['C:/Users/ferdh/Downloads/datatest/audioexport/test file.wav']\n"
     ]
    }
   ],
   "source": [
    "from TheWildTool.WorkData import ProcessAudio\n",
    "import os\n",
    "\n",
    "\n",
    "files = os.listdir('C:/Users/ferdh/Downloads/datatest/audioexport')\n",
    "files_abs = []\n",
    "\n",
    "for file_r in files:\n",
    "    files_abs.append(f'C:/Users/ferdh/Downloads/datatest/audioexport/{file_r}') # Para añadir la ruta absoluta. De esto se encarga el usuario.\n",
    "\n",
    "\n",
    "print(files_abs)\n",
    "\n",
    "audioClient = ProcessAudio()\n",
    "audioClient.add_to_queue(files_abs)\n",
    "\n",
    "print(audioClient.extract_queue, end='\\n')"
   ]
  }
 ],
 "metadata": {
  "kernelspec": {
   "display_name": "Python 3 (ipykernel)",
   "language": "python",
   "name": "python3"
  },
  "language_info": {
   "codemirror_mode": {
    "name": "ipython",
    "version": 3
   },
   "file_extension": ".py",
   "mimetype": "text/x-python",
   "name": "python",
   "nbconvert_exporter": "python",
   "pygments_lexer": "ipython3",
   "version": "3.10.8"
  }
 },
 "nbformat": 4,
 "nbformat_minor": 4
}
